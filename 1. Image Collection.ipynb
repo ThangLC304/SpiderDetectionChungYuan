{
 "cells": [
  {
   "cell_type": "markdown",
   "metadata": {},
   "source": [
    "# 1. Import Dependencies"
   ]
  },
  {
   "cell_type": "code",
   "execution_count": null,
   "metadata": {},
   "outputs": [],
   "source": [
    "# !pip install opencv-python"
   ]
  },
  {
   "cell_type": "code",
   "execution_count": 2,
   "metadata": {},
   "outputs": [],
   "source": [
    "# Import opencv\n",
    "import cv2 \n",
    "\n",
    "# Import uuid\n",
    "import uuid\n",
    "\n",
    "# Import Operating System\n",
    "import os\n",
    "\n",
    "# Import time\n",
    "import time\n",
    "\n",
    "# Import shutil\n",
    "import shutil"
   ]
  },
  {
   "cell_type": "code",
   "execution_count": 4,
   "metadata": {},
   "outputs": [],
   "source": [
    "BACKUP_DIR = r'C:\\Code\\ChungyuanProjects\\SpiderDataset01\\inaturalist\\Script\\BBOX\\BackUp'\n",
    "DATASET_DIR = r\"C:\\Code\\ChungyuanProjects\\SpiderDataset01\\inaturalist\\Dataset\"\n",
    "ROOT_DIR = r\"C:\\Code\\ChungyuanProjects\\SpiderDataset01\\inaturalist\\Script\\Models\\TFODCourse\\Tensorflow\"\n",
    "IMAGES_PATH = os.path.join(ROOT_DIR, \"workspace\", \"images\", \"collectedimages\")\n",
    "LABELIMG_PATH = os.path.join(ROOT_DIR, 'labelimg')"
   ]
  },
  {
   "cell_type": "markdown",
   "metadata": {},
   "source": [
    "# 2. Define Images to Collect"
   ]
  },
  {
   "cell_type": "code",
   "execution_count": 6,
   "metadata": {},
   "outputs": [],
   "source": [
    "labels = os.listdir(BACKUP_DIR)\n",
    "number_imgs = 30"
   ]
  },
  {
   "cell_type": "markdown",
   "metadata": {},
   "source": [
    "# 3. Setup Folders "
   ]
  },
  {
   "cell_type": "code",
   "execution_count": 7,
   "metadata": {},
   "outputs": [],
   "source": [
    "if not os.path.exists(IMAGES_PATH):\n",
    "    if os.name == 'posix':\n",
    "        !mkdir -p {IMAGES_PATH}\n",
    "    if os.name == 'nt':\n",
    "        !mkdir {IMAGES_PATH}\n",
    "#for each species in labels\n",
    "for label in labels:\n",
    "    path = os.path.join(IMAGES_PATH, label)\n",
    "    if not os.path.exists(path):\n",
    "        !mkdir {path}"
   ]
  },
  {
   "cell_type": "code",
   "execution_count": 8,
   "metadata": {},
   "outputs": [],
   "source": [
    "### moveback\n",
    "source_folders = os.listdir(IMAGES_PATH)\n",
    "#move all files within the source folders to the same folder in DATASET_DIR\n",
    "for folder in source_folders:\n",
    "    for img_name in os.listdir(os.path.join(IMAGES_PATH, folder)):\n",
    "        # print(os.path.join(IMAGES_PATH, folder, img_name))\n",
    "        # if the file not existed at destination\n",
    "        if not os.path.exists(os.path.join(DATASET_DIR, folder, img_name)):\n",
    "            shutil.copy(os.path.join(IMAGES_PATH, folder, img_name), os.path.join(DATASET_DIR, folder, img_name))"
   ]
  },
  {
   "cell_type": "code",
   "execution_count": 46,
   "metadata": {},
   "outputs": [],
   "source": [
    "### Transfer images\n",
    "def filter():\n",
    "    folder_list = os.listdir(BACKUP_DIR)\n",
    "    for folder in folder_list:\n",
    "        #Check content of files in folder, if the file is empty then remove that file \n",
    "        file_list = os.listdir(os.path.join(BACKUP_DIR, folder))\n",
    "        for file in file_list:\n",
    "            if os.stat(BACKUP_DIR + '\\\\' + folder + '\\\\' + file).st_size == 0:\n",
    "                os.remove(BACKUP_DIR + '\\\\' + folder + '\\\\' + file)\n",
    "                print('Removed empty file: ' + file)\n",
    "            if file.split('_')[0] != folder:\n",
    "                os.remove(BACKUP_DIR + '\\\\' + folder + '\\\\' + file)\n",
    "                print('File not compatible: ' + file)\n",
    "\n",
    "def transfer_imgs():\n",
    "    filter()\n",
    "    for annotation_folder in labels:\n",
    "        txt_path = os.listdir(os.path.join(BACKUP_DIR, annotation_folder))\n",
    "        imgs_name = [(txt_file.split('.')[0]+'.jpg') for txt_file in txt_path if txt_file.endswith('.txt')]\n",
    "        for img_name in imgs_name:\n",
    "            destination = os.path.join(IMAGES_PATH, annotation_folder, img_name)\n",
    "            if not os.path.exists(destination):\n",
    "                shutil.copy(os.path.join(DATASET_DIR, annotation_folder, img_name), destination)\n",
    "\n",
    "transfer_imgs()"
   ]
  },
  {
   "cell_type": "markdown",
   "metadata": {},
   "source": [
    "# 4. Capture Images"
   ]
  },
  {
   "cell_type": "code",
   "execution_count": null,
   "metadata": {},
   "outputs": [],
   "source": [
    "for label in labels:\n",
    "    cap = cv2.VideoCapture(0)\n",
    "    print('Collecting images for {}'.format(label))\n",
    "    time.sleep(5)\n",
    "    for imgnum in range(number_imgs):\n",
    "        print('Collecting image {}'.format(imgnum))\n",
    "        ret, frame = cap.read()\n",
    "        imgname = os.path.join(IMAGES_PATH,label,label+'.'+'{}.jpg'.format(str(uuid.uuid1())))\n",
    "        cv2.imwrite(imgname, frame)\n",
    "        cv2.imshow('frame', frame)\n",
    "        time.sleep(2)\n",
    "\n",
    "        if cv2.waitKey(1) & 0xFF == ord('q'):\n",
    "            break\n",
    "        \n",
    "cap.release()\n",
    "cv2.destroyAllWindows()"
   ]
  },
  {
   "cell_type": "markdown",
   "metadata": {},
   "source": [
    "# 5. Image Labelling"
   ]
  },
  {
   "cell_type": "code",
   "execution_count": null,
   "metadata": {},
   "outputs": [],
   "source": [
    "# !pip install --upgrade pyqt5 lxml"
   ]
  },
  {
   "cell_type": "code",
   "execution_count": 48,
   "metadata": {},
   "outputs": [
    {
     "name": "stderr",
     "output_type": "stream",
     "text": [
      "Cloning into 'Tensorflow\\labelimg'...\n"
     ]
    }
   ],
   "source": [
    "if not os.path.exists(LABELIMG_PATH):\n",
    "    !mkdir {LABELIMG_PATH}\n",
    "    !git clone https://github.com/tzutalin/labelImg {LABELIMG_PATH}"
   ]
  },
  {
   "cell_type": "code",
   "execution_count": 49,
   "metadata": {},
   "outputs": [],
   "source": [
    "if os.name == 'posix':\n",
    "    !make qt5py3\n",
    "if os.name =='nt':\n",
    "    !cd {LABELIMG_PATH} && pyrcc5 -o libs/resources.py resources.qrc"
   ]
  },
  {
   "cell_type": "code",
   "execution_count": 5,
   "metadata": {},
   "outputs": [
    {
     "name": "stdout",
     "output_type": "stream",
     "text": [
      "Cancel creation.\n",
      "Image:C:\\Code\\ChungyuanProjects\\SpiderDataset01\\inaturalist\\Dataset\\Eriovixia-laglaizei\\Eriovixia-laglaizei_1.jpg -> Annotation:C:/Code/ChungyuanProjects/SpiderDataset01/inaturalist/Dataset/Eriovixia-laglaizei\\Eriovixia-laglaizei_1.xml\n",
      "Image:C:\\Code\\ChungyuanProjects\\SpiderDataset01\\inaturalist\\Dataset\\Eriovixia-laglaizei\\Eriovixia-laglaizei_2.jpg -> Annotation:C:/Code/ChungyuanProjects/SpiderDataset01/inaturalist/Dataset/Eriovixia-laglaizei\\Eriovixia-laglaizei_2.xml\n",
      "Image:C:\\Code\\ChungyuanProjects\\SpiderDataset01\\inaturalist\\Dataset\\Eriovixia-laglaizei\\Eriovixia-laglaizei_3.jpg -> Annotation:C:/Code/ChungyuanProjects/SpiderDataset01/inaturalist/Dataset/Eriovixia-laglaizei\\Eriovixia-laglaizei_3.xml\n",
      "Image:C:\\Code\\ChungyuanProjects\\SpiderDataset01\\inaturalist\\Dataset\\Eriovixia-laglaizei\\Eriovixia-laglaizei_4.jpg -> Annotation:C:/Code/ChungyuanProjects/SpiderDataset01/inaturalist/Dataset/Eriovixia-laglaizei\\Eriovixia-laglaizei_4.xml\n",
      "Image:C:\\Code\\ChungyuanProjects\\SpiderDataset01\\inaturalist\\Dataset\\Eriovixia-laglaizei\\Eriovixia-laglaizei_5.jpg -> Annotation:C:/Code/ChungyuanProjects/SpiderDataset01/inaturalist/Dataset/Eriovixia-laglaizei\\Eriovixia-laglaizei_5.xml\n",
      "Image:C:\\Code\\ChungyuanProjects\\SpiderDataset01\\inaturalist\\Dataset\\Eriovixia-laglaizei\\Eriovixia-laglaizei_6.jpg -> Annotation:C:/Code/ChungyuanProjects/SpiderDataset01/inaturalist/Dataset/Eriovixia-laglaizei\\Eriovixia-laglaizei_6.xml\n",
      "Image:C:\\Code\\ChungyuanProjects\\SpiderDataset01\\inaturalist\\Dataset\\Eriovixia-laglaizei\\Eriovixia-laglaizei_7.jpg -> Annotation:C:/Code/ChungyuanProjects/SpiderDataset01/inaturalist/Dataset/Eriovixia-laglaizei\\Eriovixia-laglaizei_7.xml\n",
      "Image:C:\\Code\\ChungyuanProjects\\SpiderDataset01\\inaturalist\\Dataset\\Eriovixia-laglaizei\\Eriovixia-laglaizei_8.jpg -> Annotation:C:/Code/ChungyuanProjects/SpiderDataset01/inaturalist/Dataset/Eriovixia-laglaizei\\Eriovixia-laglaizei_8.xml\n",
      "Image:C:\\Code\\ChungyuanProjects\\SpiderDataset01\\inaturalist\\Dataset\\Eriovixia-laglaizei\\Eriovixia-laglaizei_9.jpg -> Annotation:C:/Code/ChungyuanProjects/SpiderDataset01/inaturalist/Dataset/Eriovixia-laglaizei\\Eriovixia-laglaizei_9.xml\n",
      "Image:C:\\Code\\ChungyuanProjects\\SpiderDataset01\\inaturalist\\Dataset\\Eriovixia-laglaizei\\Eriovixia-laglaizei_10.jpg -> Annotation:C:/Code/ChungyuanProjects/SpiderDataset01/inaturalist/Dataset/Eriovixia-laglaizei\\Eriovixia-laglaizei_10.xml\n",
      "Image:C:\\Code\\ChungyuanProjects\\SpiderDataset01\\inaturalist\\Dataset\\Eriovixia-laglaizei\\Eriovixia-laglaizei_11.jpg -> Annotation:C:/Code/ChungyuanProjects/SpiderDataset01/inaturalist/Dataset/Eriovixia-laglaizei\\Eriovixia-laglaizei_11.xml\n",
      "Image:C:\\Code\\ChungyuanProjects\\SpiderDataset01\\inaturalist\\Dataset\\Eriovixia-laglaizei\\Eriovixia-laglaizei_12.jpg -> Annotation:C:/Code/ChungyuanProjects/SpiderDataset01/inaturalist/Dataset/Eriovixia-laglaizei\\Eriovixia-laglaizei_12.xml\n",
      "Image:C:\\Code\\ChungyuanProjects\\SpiderDataset01\\inaturalist\\Dataset\\Eriovixia-laglaizei\\Eriovixia-laglaizei_13.jpg -> Annotation:C:/Code/ChungyuanProjects/SpiderDataset01/inaturalist/Dataset/Eriovixia-laglaizei\\Eriovixia-laglaizei_13.xml\n",
      "Image:C:\\Code\\ChungyuanProjects\\SpiderDataset01\\inaturalist\\Dataset\\Eriovixia-laglaizei\\Eriovixia-laglaizei_14.jpg -> Annotation:C:/Code/ChungyuanProjects/SpiderDataset01/inaturalist/Dataset/Eriovixia-laglaizei\\Eriovixia-laglaizei_14.xml\n",
      "Image:C:\\Code\\ChungyuanProjects\\SpiderDataset01\\inaturalist\\Dataset\\Eriovixia-laglaizei\\Eriovixia-laglaizei_15.jpg -> Annotation:C:/Code/ChungyuanProjects/SpiderDataset01/inaturalist/Dataset/Eriovixia-laglaizei\\Eriovixia-laglaizei_15.xml\n",
      "Image:C:\\Code\\ChungyuanProjects\\SpiderDataset01\\inaturalist\\Dataset\\Eriovixia-laglaizei\\Eriovixia-laglaizei_16.jpg -> Annotation:C:/Code/ChungyuanProjects/SpiderDataset01/inaturalist/Dataset/Eriovixia-laglaizei\\Eriovixia-laglaizei_16.xml\n",
      "Image:C:\\Code\\ChungyuanProjects\\SpiderDataset01\\inaturalist\\Dataset\\Eriovixia-laglaizei\\Eriovixia-laglaizei_17.jpg -> Annotation:C:/Code/ChungyuanProjects/SpiderDataset01/inaturalist/Dataset/Eriovixia-laglaizei\\Eriovixia-laglaizei_17.xml\n",
      "Image:C:\\Code\\ChungyuanProjects\\SpiderDataset01\\inaturalist\\Dataset\\Eriovixia-laglaizei\\Eriovixia-laglaizei_18.jpg -> Annotation:C:/Code/ChungyuanProjects/SpiderDataset01/inaturalist/Dataset/Eriovixia-laglaizei\\Eriovixia-laglaizei_18.xml\n",
      "Image:C:\\Code\\ChungyuanProjects\\SpiderDataset01\\inaturalist\\Dataset\\Eriovixia-laglaizei\\Eriovixia-laglaizei_19.jpg -> Annotation:C:/Code/ChungyuanProjects/SpiderDataset01/inaturalist/Dataset/Eriovixia-laglaizei\\Eriovixia-laglaizei_19.xml\n",
      "Image:C:\\Code\\ChungyuanProjects\\SpiderDataset01\\inaturalist\\Dataset\\Eriovixia-laglaizei\\Eriovixia-laglaizei_20.jpg -> Annotation:C:/Code/ChungyuanProjects/SpiderDataset01/inaturalist/Dataset/Eriovixia-laglaizei\\Eriovixia-laglaizei_20.xml\n",
      "Image:C:\\Code\\ChungyuanProjects\\SpiderDataset01\\inaturalist\\Dataset\\Eriovixia-laglaizei\\Eriovixia-laglaizei_22.jpg -> Annotation:C:/Code/ChungyuanProjects/SpiderDataset01/inaturalist/Dataset/Eriovixia-laglaizei\\Eriovixia-laglaizei_22.xml\n",
      "Image:C:\\Code\\ChungyuanProjects\\SpiderDataset01\\inaturalist\\Dataset\\Eriovixia-laglaizei\\Eriovixia-laglaizei_23.jpg -> Annotation:C:/Code/ChungyuanProjects/SpiderDataset01/inaturalist/Dataset/Eriovixia-laglaizei\\Eriovixia-laglaizei_23.xml\n",
      "Image:C:\\Code\\ChungyuanProjects\\SpiderDataset01\\inaturalist\\Dataset\\Eriovixia-laglaizei\\Eriovixia-laglaizei_24.jpg -> Annotation:C:/Code/ChungyuanProjects/SpiderDataset01/inaturalist/Dataset/Eriovixia-laglaizei\\Eriovixia-laglaizei_24.xml\n",
      "Image:C:\\Code\\ChungyuanProjects\\SpiderDataset01\\inaturalist\\Dataset\\Eriovixia-laglaizei\\Eriovixia-laglaizei_25.jpg -> Annotation:C:/Code/ChungyuanProjects/SpiderDataset01/inaturalist/Dataset/Eriovixia-laglaizei\\Eriovixia-laglaizei_25.xml\n",
      "Image:C:\\Code\\ChungyuanProjects\\SpiderDataset01\\inaturalist\\Dataset\\Eriovixia-laglaizei\\Eriovixia-laglaizei_26.jpg -> Annotation:C:/Code/ChungyuanProjects/SpiderDataset01/inaturalist/Dataset/Eriovixia-laglaizei\\Eriovixia-laglaizei_26.xml\n",
      "Image:C:\\Code\\ChungyuanProjects\\SpiderDataset01\\inaturalist\\Dataset\\Eriovixia-laglaizei\\Eriovixia-laglaizei_27.jpg -> Annotation:C:/Code/ChungyuanProjects/SpiderDataset01/inaturalist/Dataset/Eriovixia-laglaizei\\Eriovixia-laglaizei_27.xml\n",
      "Image:C:\\Code\\ChungyuanProjects\\SpiderDataset01\\inaturalist\\Dataset\\Eriovixia-laglaizei\\Eriovixia-laglaizei_28.jpg -> Annotation:C:/Code/ChungyuanProjects/SpiderDataset01/inaturalist/Dataset/Eriovixia-laglaizei\\Eriovixia-laglaizei_28.xml\n",
      "Image:C:\\Code\\ChungyuanProjects\\SpiderDataset01\\inaturalist\\Dataset\\Eriovixia-laglaizei\\Eriovixia-laglaizei_29.jpg -> Annotation:C:/Code/ChungyuanProjects/SpiderDataset01/inaturalist/Dataset/Eriovixia-laglaizei\\Eriovixia-laglaizei_29.xml\n",
      "Image:C:\\Code\\ChungyuanProjects\\SpiderDataset01\\inaturalist\\Dataset\\Eriovixia-laglaizei\\Eriovixia-laglaizei_30.jpg -> Annotation:C:/Code/ChungyuanProjects/SpiderDataset01/inaturalist/Dataset/Eriovixia-laglaizei\\Eriovixia-laglaizei_30.xml\n",
      "Image:C:\\Code\\ChungyuanProjects\\SpiderDataset01\\inaturalist\\Dataset\\Eriovixia-laglaizei\\Eriovixia-laglaizei_31.jpg -> Annotation:C:/Code/ChungyuanProjects/SpiderDataset01/inaturalist/Dataset/Eriovixia-laglaizei\\Eriovixia-laglaizei_31.xml\n",
      "Image:C:\\Code\\ChungyuanProjects\\SpiderDataset01\\inaturalist\\Dataset\\Eriovixia-laglaizei\\Eriovixia-laglaizei_32.jpg -> Annotation:C:/Code/ChungyuanProjects/SpiderDataset01/inaturalist/Dataset/Eriovixia-laglaizei\\Eriovixia-laglaizei_32.xml\n",
      "Image:C:\\Code\\ChungyuanProjects\\SpiderDataset01\\inaturalist\\Dataset\\Eriovixia-laglaizei\\Eriovixia-laglaizei_33.jpg -> Annotation:C:/Code/ChungyuanProjects/SpiderDataset01/inaturalist/Dataset/Eriovixia-laglaizei\\Eriovixia-laglaizei_33.xml\n",
      "Image:C:\\Code\\ChungyuanProjects\\SpiderDataset01\\inaturalist\\Dataset\\Eriovixia-laglaizei\\Eriovixia-laglaizei_34.jpg -> Annotation:C:/Code/ChungyuanProjects/SpiderDataset01/inaturalist/Dataset/Eriovixia-laglaizei\\Eriovixia-laglaizei_34.xml\n",
      "Image:C:\\Code\\ChungyuanProjects\\SpiderDataset01\\inaturalist\\Dataset\\Eriovixia-laglaizei\\Eriovixia-laglaizei_35.jpg -> Annotation:C:/Code/ChungyuanProjects/SpiderDataset01/inaturalist/Dataset/Eriovixia-laglaizei\\Eriovixia-laglaizei_35.xml\n",
      "Image:C:\\Code\\ChungyuanProjects\\SpiderDataset01\\inaturalist\\Dataset\\Eriovixia-laglaizei\\Eriovixia-laglaizei_36.jpg -> Annotation:C:/Code/ChungyuanProjects/SpiderDataset01/inaturalist/Dataset/Eriovixia-laglaizei\\Eriovixia-laglaizei_36.xml\n",
      "Image:C:\\Code\\ChungyuanProjects\\SpiderDataset01\\inaturalist\\Dataset\\Eriovixia-laglaizei\\Eriovixia-laglaizei_36.jpg -> Annotation:C:/Code/ChungyuanProjects/SpiderDataset01/inaturalist/Dataset/Eriovixia-laglaizei\\Eriovixia-laglaizei_36.xml\n",
      "Image:C:\\Code\\ChungyuanProjects\\SpiderDataset01\\inaturalist\\Dataset\\Eriovixia-laglaizei\\Eriovixia-laglaizei_36.jpg -> Annotation:C:/Code/ChungyuanProjects/SpiderDataset01/inaturalist/Dataset/Eriovixia-laglaizei\\Eriovixia-laglaizei_36.xml\n",
      "Image:C:\\Code\\ChungyuanProjects\\SpiderDataset01\\inaturalist\\Dataset\\Eriovixia-laglaizei\\Eriovixia-laglaizei_37.jpg -> Annotation:C:/Code/ChungyuanProjects/SpiderDataset01/inaturalist/Dataset/Eriovixia-laglaizei\\Eriovixia-laglaizei_37.xml\n",
      "Image:C:\\Code\\ChungyuanProjects\\SpiderDataset01\\inaturalist\\Dataset\\Eriovixia-laglaizei\\Eriovixia-laglaizei_39.jpg -> Annotation:C:/Code/ChungyuanProjects/SpiderDataset01/inaturalist/Dataset/Eriovixia-laglaizei\\Eriovixia-laglaizei_39.xml\n",
      "Image:C:\\Code\\ChungyuanProjects\\SpiderDataset01\\inaturalist\\Dataset\\Eriovixia-laglaizei\\Eriovixia-laglaizei_40.jpg -> Annotation:C:/Code/ChungyuanProjects/SpiderDataset01/inaturalist/Dataset/Eriovixia-laglaizei\\Eriovixia-laglaizei_40.xml\n",
      "Image:C:\\Code\\ChungyuanProjects\\SpiderDataset01\\inaturalist\\Dataset\\Eriovixia-laglaizei\\Eriovixia-laglaizei_41.jpg -> Annotation:C:/Code/ChungyuanProjects/SpiderDataset01/inaturalist/Dataset/Eriovixia-laglaizei\\Eriovixia-laglaizei_41.xml\n",
      "Image:C:\\Code\\ChungyuanProjects\\SpiderDataset01\\inaturalist\\Dataset\\Eriovixia-laglaizei\\Eriovixia-laglaizei_42.jpg -> Annotation:C:/Code/ChungyuanProjects/SpiderDataset01/inaturalist/Dataset/Eriovixia-laglaizei\\Eriovixia-laglaizei_42.xml\n",
      "Image:C:\\Code\\ChungyuanProjects\\SpiderDataset01\\inaturalist\\Dataset\\Eriovixia-laglaizei\\Eriovixia-laglaizei_43.jpg -> Annotation:C:/Code/ChungyuanProjects/SpiderDataset01/inaturalist/Dataset/Eriovixia-laglaizei\\Eriovixia-laglaizei_43.xml\n",
      "Image:C:\\Code\\ChungyuanProjects\\SpiderDataset01\\inaturalist\\Dataset\\Eriovixia-laglaizei\\Eriovixia-laglaizei_44.jpg -> Annotation:C:/Code/ChungyuanProjects/SpiderDataset01/inaturalist/Dataset/Eriovixia-laglaizei\\Eriovixia-laglaizei_44.xml\n",
      "Image:C:\\Code\\ChungyuanProjects\\SpiderDataset01\\inaturalist\\Dataset\\Eriovixia-laglaizei\\Eriovixia-laglaizei_45.jpg -> Annotation:C:/Code/ChungyuanProjects/SpiderDataset01/inaturalist/Dataset/Eriovixia-laglaizei\\Eriovixia-laglaizei_45.xml\n",
      "Image:C:\\Code\\ChungyuanProjects\\SpiderDataset01\\inaturalist\\Dataset\\Eriovixia-laglaizei\\Eriovixia-laglaizei_46.jpg -> Annotation:C:/Code/ChungyuanProjects/SpiderDataset01/inaturalist/Dataset/Eriovixia-laglaizei\\Eriovixia-laglaizei_46.xml\n",
      "Image:C:\\Code\\ChungyuanProjects\\SpiderDataset01\\inaturalist\\Dataset\\Eriovixia-laglaizei\\Eriovixia-laglaizei_47.jpg -> Annotation:C:/Code/ChungyuanProjects/SpiderDataset01/inaturalist/Dataset/Eriovixia-laglaizei\\Eriovixia-laglaizei_47.xml\n"
     ]
    }
   ],
   "source": [
    "!cd {LABELIMG_PATH} && python labelImg.py"
   ]
  },
  {
   "cell_type": "markdown",
   "metadata": {},
   "source": [
    "# 6. Move them into a Training and Testing Partition"
   ]
  },
  {
   "cell_type": "markdown",
   "metadata": {},
   "source": [
    "# OPTIONAL - 7. Compress them for Colab Training"
   ]
  },
  {
   "cell_type": "code",
   "execution_count": 9,
   "metadata": {},
   "outputs": [],
   "source": [
    "TRAIN_PATH = os.path.join(ROOT_DIR, 'workspace', 'images', 'train')\n",
    "TEST_PATH = os.path.join(ROOT_DIR, 'workspace', 'images', 'test')\n",
    "#make these folders\n",
    "if not os.path.exists(TRAIN_PATH):\n",
    "    if os.name == 'posix':\n",
    "        !mkdir -p {TRAIN_PATH}\n",
    "    if os.name == 'nt':\n",
    "        !mkdir {TRAIN_PATH}\n",
    "if not os.path.exists(TEST_PATH):\n",
    "    if os.name == 'posix':\n",
    "        !mkdir -p {TEST_PATH}\n",
    "    if os.name == 'nt':\n",
    "        !mkdir {TEST_PATH}"
   ]
  },
  {
   "cell_type": "code",
   "execution_count": null,
   "metadata": {},
   "outputs": [],
   "source": [
    "# !tar -czf {ARCHIVE_PATH} {TRAIN_PATH} {TEST_PATH}"
   ]
  },
  {
   "cell_type": "code",
   "execution_count": null,
   "metadata": {},
   "outputs": [],
   "source": []
  }
 ],
 "metadata": {
  "kernelspec": {
   "display_name": "Python 3.9.13 ('myenv')",
   "language": "python",
   "name": "python3"
  },
  "language_info": {
   "codemirror_mode": {
    "name": "ipython",
    "version": 3
   },
   "file_extension": ".py",
   "mimetype": "text/x-python",
   "name": "python",
   "nbconvert_exporter": "python",
   "pygments_lexer": "ipython3",
   "version": "3.9.13"
  },
  "vscode": {
   "interpreter": {
    "hash": "de1e89af3ef8b17e93d79e53c27fdd6267335e03ee420ef3296d6319bf4dd9be"
   }
  }
 },
 "nbformat": 4,
 "nbformat_minor": 2
}
